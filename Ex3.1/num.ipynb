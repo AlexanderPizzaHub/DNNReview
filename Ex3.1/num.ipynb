{
 "cells": [
  {
   "cell_type": "code",
   "execution_count": 1,
   "id": "6ac31609",
   "metadata": {},
   "outputs": [],
   "source": [
    "import numpy as np"
   ]
  },
  {
   "cell_type": "code",
   "execution_count": 4,
   "id": "d2adc56a",
   "metadata": {},
   "outputs": [
    {
     "data": {
      "text/plain": [
       "0.25051"
      ]
     },
     "execution_count": 4,
     "metadata": {},
     "output_type": "execute_result"
    }
   ],
   "source": [
    "0.04/1 / 0.04*0.25051"
   ]
  },
  {
   "cell_type": "code",
   "execution_count": 5,
   "id": "74e61345",
   "metadata": {},
   "outputs": [],
   "source": [
    "num = [0.053/1 / 0.04*0.25051,0.052/1 / 0.04*0.25051,0.042/1 / 0.04*0.25051,0.045/1 / 0.04*0.25051,0.07/1 / 0.04*0.25051,0.03/1 / 0.04*0.25051,0.04/1 / 0.04*0.25051]"
   ]
  },
  {
   "cell_type": "code",
   "execution_count": 6,
   "id": "8fdbd371",
   "metadata": {},
   "outputs": [
    {
     "data": {
      "text/plain": [
       "0.07317792564633485"
      ]
     },
     "execution_count": 6,
     "metadata": {},
     "output_type": "execute_result"
    }
   ],
   "source": [
    "np.std(num )"
   ]
  },
  {
   "cell_type": "code",
   "execution_count": 7,
   "id": "3c72c1f3",
   "metadata": {},
   "outputs": [
    {
     "data": {
      "text/plain": [
       "0.2970332857142857"
      ]
     },
     "execution_count": 7,
     "metadata": {},
     "output_type": "execute_result"
    }
   ],
   "source": [
    "np.mean(num)"
   ]
  },
  {
   "cell_type": "code",
   "execution_count": null,
   "id": "213d9f20",
   "metadata": {},
   "outputs": [],
   "source": []
  }
 ],
 "metadata": {
  "kernelspec": {
   "display_name": "torch",
   "language": "python",
   "name": "python3"
  },
  "language_info": {
   "codemirror_mode": {
    "name": "ipython",
    "version": 3
   },
   "file_extension": ".py",
   "mimetype": "text/x-python",
   "name": "python",
   "nbconvert_exporter": "python",
   "pygments_lexer": "ipython3",
   "version": "3.11.3"
  }
 },
 "nbformat": 4,
 "nbformat_minor": 5
}
